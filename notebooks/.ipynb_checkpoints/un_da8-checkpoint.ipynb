{
 "cells": [
  {
   "cell_type": "code",
   "execution_count": 1,
   "id": "e2191548",
   "metadata": {},
   "outputs": [],
   "source": [
    "import pandas as pd\n",
    "import numpy as np\n",
    "import matplotlib.pyplot as plt\n",
    "import seaborn as sns"
   ]
  },
  {
   "cell_type": "code",
   "execution_count": 2,
   "id": "e1d1c04a",
   "metadata": {},
   "outputs": [],
   "source": [
    "gdp_df = pd.read_csv('C:/NSS/da8-projects/un-proj/data/gdp_percapita.csv')"
   ]
  },
  {
   "cell_type": "markdown",
   "id": "f7524b20",
   "metadata": {},
   "source": [
    "<h2 style=\"text-align: center;\">Question 5</h2>\n",
    "<h5 style=\"text-align: center; color: gray;\">How many rows and columns are in `gdp_df`? What are the data types of each column?</h5>"
   ]
  },
  {
   "cell_type": "code",
   "execution_count": 3,
   "id": "aef93749",
   "metadata": {},
   "outputs": [
    {
     "name": "stdout",
     "output_type": "stream",
     "text": [
      "<class 'pandas.core.frame.DataFrame'>\n",
      "RangeIndex: 7176 entries, 0 to 7175\n",
      "Data columns (total 4 columns):\n",
      " #   Column           Non-Null Count  Dtype  \n",
      "---  ------           --------------  -----  \n",
      " 0   Country or Area  7176 non-null   object \n",
      " 1   Year             7176 non-null   int64  \n",
      " 2   Value            7176 non-null   float64\n",
      " 3   Value Footnotes  0 non-null      float64\n",
      "dtypes: float64(2), int64(1), object(1)\n",
      "memory usage: 224.4+ KB\n"
     ]
    }
   ],
   "source": [
    "gdp_df.info()"
   ]
  },
  {
   "cell_type": "markdown",
   "id": "f45d3ecf",
   "metadata": {},
   "source": [
    "<h2 style=\"text-align: center;\">Question 6</h2>\n",
    "<h5 style=\"text-align: center; color: gray;\">Drop the `Value Footnotes` column and rename the remaining three to 'Country', 'Year', and 'GDP_Per_Capita'.</h5>"
   ]
  },
  {
   "cell_type": "code",
   "execution_count": 4,
   "id": "7e05bef2",
   "metadata": {},
   "outputs": [],
   "source": [
    "gdp_df.drop('Value Footnotes', axis=1, inplace=True)\n",
    "gdp_df.rename(\n",
    "    columns={'Value': 'GDP_Per_Capita'\n",
    "             , 'Country or Area': 'Country'}\n",
    "    , inplace=True\n",
    "    )"
   ]
  },
  {
   "cell_type": "markdown",
   "id": "724b65ea",
   "metadata": {},
   "source": [
    "<h2 style=\"text-align: center;\">Question 7</h2>\n",
    "<h5 style=\"text-align: center; color: gray;\">How many countries have data for all years? Which countries are missing many years of data? Look at the number of observations per year. What do you notice?</h5>"
   ]
  },
  {
   "cell_type": "code",
   "execution_count": 5,
   "id": "4d3de50c",
   "metadata": {},
   "outputs": [
    {
     "name": "stdout",
     "output_type": "stream",
     "text": [
      "Countries w/ all years: 205\n",
      "Countries missing years:  37\n"
     ]
    },
    {
     "data": {
      "text/plain": [
       "Least developed countries: UN classification    31\n",
       "Niger                                           31\n",
       "Middle East & North Africa (IDA & IBRD)         31\n",
       "Middle income                                   31\n",
       "Mongolia                                        31\n",
       "                                                ..\n",
       "Kosovo                                          13\n",
       "Turks and Caicos Islands                        10\n",
       "Sint Maarten (Dutch part)                       10\n",
       "Somalia                                          8\n",
       "Djibouti                                         8\n",
       "Name: Country, Length: 242, dtype: int64"
      ]
     },
     "execution_count": 5,
     "metadata": {},
     "output_type": "execute_result"
    }
   ],
   "source": [
    "#gdp_df['Year'].value_counts()\n",
    "\n",
    "num_yr_cntry = gdp_df['Country'].value_counts()\n",
    "\n",
    "x = gdp_df['Year'].nunique()\n",
    "\n",
    "every_yr = len(num_yr_cntry[num_yr_cntry == x])\n",
    "\n",
    "not_every_yr = len(num_yr_cntry[num_yr_cntry < x])\n",
    "\n",
    "print(f\"Countries w/ all years: {every_yr}\")\n",
    "print(f\"Countries missing years:  {not_every_yr}\")\n",
    "\n",
    "num_yr_cntry"
   ]
  },
  {
   "cell_type": "code",
   "execution_count": 6,
   "id": "a41a5001",
   "metadata": {},
   "outputs": [
    {
     "data": {
      "text/plain": [
       "31"
      ]
     },
     "execution_count": 6,
     "metadata": {},
     "output_type": "execute_result"
    }
   ],
   "source": [
    "num_of_years = gdp_df['Year'].nunique()\n",
    "num_of_years"
   ]
  },
  {
   "cell_type": "code",
   "execution_count": 7,
   "id": "ec00303e",
   "metadata": {},
   "outputs": [],
   "source": [
    "num_of_years_half = num_of_years / 2"
   ]
  },
  {
   "cell_type": "code",
   "execution_count": 8,
   "id": "f453c0cf",
   "metadata": {},
   "outputs": [],
   "source": [
    "grouped_df = gdp_df.groupby('Country').agg({'Year': pd.Series.nunique})"
   ]
  },
  {
   "cell_type": "code",
   "execution_count": 9,
   "id": "8c296899",
   "metadata": {},
   "outputs": [
    {
     "data": {
      "text/html": [
       "<div>\n",
       "<style scoped>\n",
       "    .dataframe tbody tr th:only-of-type {\n",
       "        vertical-align: middle;\n",
       "    }\n",
       "\n",
       "    .dataframe tbody tr th {\n",
       "        vertical-align: top;\n",
       "    }\n",
       "\n",
       "    .dataframe thead th {\n",
       "        text-align: right;\n",
       "    }\n",
       "</style>\n",
       "<table border=\"1\" class=\"dataframe\">\n",
       "  <thead>\n",
       "    <tr style=\"text-align: right;\">\n",
       "      <th></th>\n",
       "      <th>Year</th>\n",
       "    </tr>\n",
       "    <tr>\n",
       "      <th>Country</th>\n",
       "      <th></th>\n",
       "    </tr>\n",
       "  </thead>\n",
       "  <tbody>\n",
       "    <tr>\n",
       "      <th>Least developed countries: UN classification</th>\n",
       "      <td>31</td>\n",
       "    </tr>\n",
       "    <tr>\n",
       "      <th>Niger</th>\n",
       "      <td>31</td>\n",
       "    </tr>\n",
       "    <tr>\n",
       "      <th>Middle East &amp; North Africa (excluding high income)</th>\n",
       "      <td>31</td>\n",
       "    </tr>\n",
       "    <tr>\n",
       "      <th>Middle income</th>\n",
       "      <td>31</td>\n",
       "    </tr>\n",
       "    <tr>\n",
       "      <th>Mongolia</th>\n",
       "      <td>31</td>\n",
       "    </tr>\n",
       "    <tr>\n",
       "      <th>Morocco</th>\n",
       "      <td>31</td>\n",
       "    </tr>\n",
       "    <tr>\n",
       "      <th>Mozambique</th>\n",
       "      <td>31</td>\n",
       "    </tr>\n",
       "    <tr>\n",
       "      <th>Myanmar</th>\n",
       "      <td>31</td>\n",
       "    </tr>\n",
       "    <tr>\n",
       "      <th>Namibia</th>\n",
       "      <td>31</td>\n",
       "    </tr>\n",
       "    <tr>\n",
       "      <th>Nepal</th>\n",
       "      <td>31</td>\n",
       "    </tr>\n",
       "    <tr>\n",
       "      <th>Netherlands</th>\n",
       "      <td>31</td>\n",
       "    </tr>\n",
       "    <tr>\n",
       "      <th>New Zealand</th>\n",
       "      <td>31</td>\n",
       "    </tr>\n",
       "    <tr>\n",
       "      <th>Nicaragua</th>\n",
       "      <td>31</td>\n",
       "    </tr>\n",
       "    <tr>\n",
       "      <th>Nigeria</th>\n",
       "      <td>31</td>\n",
       "    </tr>\n",
       "    <tr>\n",
       "      <th>Kenya</th>\n",
       "      <td>31</td>\n",
       "    </tr>\n",
       "    <tr>\n",
       "      <th>North America</th>\n",
       "      <td>31</td>\n",
       "    </tr>\n",
       "    <tr>\n",
       "      <th>North Macedonia</th>\n",
       "      <td>31</td>\n",
       "    </tr>\n",
       "    <tr>\n",
       "      <th>Norway</th>\n",
       "      <td>31</td>\n",
       "    </tr>\n",
       "    <tr>\n",
       "      <th>OECD members</th>\n",
       "      <td>31</td>\n",
       "    </tr>\n",
       "    <tr>\n",
       "      <th>Oman</th>\n",
       "      <td>31</td>\n",
       "    </tr>\n",
       "  </tbody>\n",
       "</table>\n",
       "</div>"
      ],
      "text/plain": [
       "                                                    Year\n",
       "Country                                                 \n",
       "Least developed countries: UN classification          31\n",
       "Niger                                                 31\n",
       "Middle East & North Africa (excluding high income)    31\n",
       "Middle income                                         31\n",
       "Mongolia                                              31\n",
       "Morocco                                               31\n",
       "Mozambique                                            31\n",
       "Myanmar                                               31\n",
       "Namibia                                               31\n",
       "Nepal                                                 31\n",
       "Netherlands                                           31\n",
       "New Zealand                                           31\n",
       "Nicaragua                                             31\n",
       "Nigeria                                               31\n",
       "Kenya                                                 31\n",
       "North America                                         31\n",
       "North Macedonia                                       31\n",
       "Norway                                                31\n",
       "OECD members                                          31\n",
       "Oman                                                  31"
      ]
     },
     "execution_count": 9,
     "metadata": {},
     "output_type": "execute_result"
    }
   ],
   "source": [
    "grouped_df.sort_values(by= 'Year', ascending=False).head(20)"
   ]
  },
  {
   "cell_type": "code",
   "execution_count": 10,
   "id": "fe148ebb",
   "metadata": {},
   "outputs": [],
   "source": [
    "num_of_countries = grouped_df[grouped_df['Year'] == num_of_years].index.nunique()"
   ]
  },
  {
   "cell_type": "code",
   "execution_count": 11,
   "id": "474db304",
   "metadata": {},
   "outputs": [
    {
     "data": {
      "text/plain": [
       "205"
      ]
     },
     "execution_count": 11,
     "metadata": {},
     "output_type": "execute_result"
    }
   ],
   "source": [
    "num_of_countries"
   ]
  },
  {
   "cell_type": "code",
   "execution_count": 12,
   "id": "db9dfdfd",
   "metadata": {},
   "outputs": [],
   "source": [
    "country_list = grouped_df[grouped_df['Year'] == num_of_years].index.tolist()"
   ]
  },
  {
   "cell_type": "code",
   "execution_count": 13,
   "id": "2563f276",
   "metadata": {},
   "outputs": [
    {
     "data": {
      "text/plain": [
       "['Africa Eastern and Southern',\n",
       " 'Africa Western and Central',\n",
       " 'Albania',\n",
       " 'Algeria',\n",
       " 'Angola',\n",
       " 'Antigua and Barbuda',\n",
       " 'Arab World',\n",
       " 'Argentina',\n",
       " 'Armenia',\n",
       " 'Aruba',\n",
       " 'Australia',\n",
       " 'Austria',\n",
       " 'Azerbaijan',\n",
       " 'Bahrain',\n",
       " 'Bangladesh',\n",
       " 'Barbados',\n",
       " 'Belarus',\n",
       " 'Belgium',\n",
       " 'Belize',\n",
       " 'Benin',\n",
       " 'Bermuda',\n",
       " 'Bhutan',\n",
       " 'Bolivia',\n",
       " 'Botswana',\n",
       " 'Brazil',\n",
       " 'Brunei',\n",
       " 'Bulgaria',\n",
       " 'Burkina Faso',\n",
       " 'Burundi',\n",
       " 'Cabo Verde',\n",
       " 'Cameroon',\n",
       " 'Caribbean small states',\n",
       " 'Central African Republic',\n",
       " 'Central Europe and the Baltics',\n",
       " 'Chad',\n",
       " 'Chile',\n",
       " 'China',\n",
       " 'Colombia',\n",
       " 'Comoros',\n",
       " 'Congo',\n",
       " 'Costa Rica',\n",
       " 'Cyprus',\n",
       " 'Czech Republic',\n",
       " \"CÃ´te d'Ivoire\",\n",
       " 'Dem. Rep. Congo',\n",
       " 'Denmark',\n",
       " 'Dominica',\n",
       " 'Dominican Republic',\n",
       " 'Early-demographic dividend',\n",
       " 'East Asia & Pacific',\n",
       " 'East Asia & Pacific (IDA & IBRD)',\n",
       " 'East Asia & Pacific (excluding high income)',\n",
       " 'Ecuador',\n",
       " 'Egypt',\n",
       " 'El Salvador',\n",
       " 'Equatorial Guinea',\n",
       " 'Eswatini',\n",
       " 'Ethiopia',\n",
       " 'Euro area',\n",
       " 'Europe & Central Asia',\n",
       " 'Europe & Central Asia (IDA & IBRD)',\n",
       " 'Europe & Central Asia (excluding high income)',\n",
       " 'European Union',\n",
       " 'Fiji',\n",
       " 'Finland',\n",
       " 'Fragile and conflict affected situations',\n",
       " 'France',\n",
       " 'Gabon',\n",
       " 'Georgia',\n",
       " 'Germany',\n",
       " 'Ghana',\n",
       " 'Greece',\n",
       " 'Grenada',\n",
       " 'Guatemala',\n",
       " 'Guinea',\n",
       " 'Guinea-Bissau',\n",
       " 'Guyana',\n",
       " 'Haiti',\n",
       " 'Heavily indebted poor countries (HIPC)',\n",
       " 'High income',\n",
       " 'Honduras',\n",
       " 'Hong Kong SAR, China',\n",
       " 'IBRD only',\n",
       " 'IDA & IBRD total',\n",
       " 'IDA blend',\n",
       " 'IDA only',\n",
       " 'IDA total',\n",
       " 'India',\n",
       " 'Indonesia',\n",
       " 'Iran',\n",
       " 'Iraq',\n",
       " 'Ireland',\n",
       " 'Italy',\n",
       " 'Jamaica',\n",
       " 'Japan',\n",
       " 'Jordan',\n",
       " 'Kazakhstan',\n",
       " 'Kenya',\n",
       " 'Kiribati',\n",
       " 'Korea',\n",
       " 'Kyrgyz Republic',\n",
       " 'Lao PDR',\n",
       " 'Late-demographic dividend',\n",
       " 'Latin America & Caribbean',\n",
       " 'Latin America & Caribbean (IDA & IBRD)',\n",
       " 'Latin America & Caribbean (excluding high income)',\n",
       " 'Least developed countries: UN classification',\n",
       " 'Lebanon',\n",
       " 'Lesotho',\n",
       " 'Low & middle income',\n",
       " 'Low income',\n",
       " 'Lower middle income',\n",
       " 'Luxembourg',\n",
       " 'Macao SAR, China',\n",
       " 'Madagascar',\n",
       " 'Malawi',\n",
       " 'Malaysia',\n",
       " 'Mali',\n",
       " 'Malta',\n",
       " 'Marshall Islands',\n",
       " 'Mauritania',\n",
       " 'Mauritius',\n",
       " 'Mexico',\n",
       " 'Micronesia',\n",
       " 'Middle East & North Africa',\n",
       " 'Middle East & North Africa (IDA & IBRD)',\n",
       " 'Middle East & North Africa (excluding high income)',\n",
       " 'Middle income',\n",
       " 'Mongolia',\n",
       " 'Morocco',\n",
       " 'Mozambique',\n",
       " 'Myanmar',\n",
       " 'Namibia',\n",
       " 'Nepal',\n",
       " 'Netherlands',\n",
       " 'New Zealand',\n",
       " 'Nicaragua',\n",
       " 'Niger',\n",
       " 'Nigeria',\n",
       " 'North America',\n",
       " 'North Macedonia',\n",
       " 'Norway',\n",
       " 'OECD members',\n",
       " 'Oman',\n",
       " 'Pacific island small states',\n",
       " 'Pakistan',\n",
       " 'Panama',\n",
       " 'Papua New Guinea',\n",
       " 'Paraguay',\n",
       " 'Peru',\n",
       " 'Philippines',\n",
       " 'Poland',\n",
       " 'Portugal',\n",
       " 'Post-demographic dividend',\n",
       " 'Pre-demographic dividend',\n",
       " 'Puerto Rico',\n",
       " 'Romania',\n",
       " 'Russia',\n",
       " 'Rwanda',\n",
       " 'Samoa',\n",
       " 'Saudi Arabia',\n",
       " 'Senegal',\n",
       " 'Seychelles',\n",
       " 'Sierra Leone',\n",
       " 'Singapore',\n",
       " 'Solomon Islands',\n",
       " 'South Africa',\n",
       " 'South Asia',\n",
       " 'South Asia (IDA & IBRD)',\n",
       " 'Spain',\n",
       " 'Sri Lanka',\n",
       " 'St. Kitts and Nevis',\n",
       " 'St. Lucia',\n",
       " 'St. Vincent and the Grenadines',\n",
       " 'Sub-Saharan Africa',\n",
       " 'Sub-Saharan Africa (IDA & IBRD)',\n",
       " 'Sub-Saharan Africa (excluding high income)',\n",
       " 'Sudan',\n",
       " 'Suriname',\n",
       " 'Sweden',\n",
       " 'Switzerland',\n",
       " 'Tajikistan',\n",
       " 'Tanzania',\n",
       " 'Thailand',\n",
       " 'The Bahamas',\n",
       " 'The Gambia',\n",
       " 'Togo',\n",
       " 'Tonga',\n",
       " 'Trinidad and Tobago',\n",
       " 'Tunisia',\n",
       " 'Tuvalu',\n",
       " 'TÃ¼rkiye',\n",
       " 'Uganda',\n",
       " 'Ukraine',\n",
       " 'United Arab Emirates',\n",
       " 'United Kingdom',\n",
       " 'United States',\n",
       " 'Upper middle income',\n",
       " 'Uruguay',\n",
       " 'Uzbekistan',\n",
       " 'Vanuatu',\n",
       " 'Vietnam',\n",
       " 'World',\n",
       " 'Zambia',\n",
       " 'Zimbabwe']"
      ]
     },
     "execution_count": 13,
     "metadata": {},
     "output_type": "execute_result"
    }
   ],
   "source": [
    "country_list"
   ]
  },
  {
   "cell_type": "code",
   "execution_count": 14,
   "id": "39f74ef8",
   "metadata": {},
   "outputs": [],
   "source": [
    "missing_years_countries = grouped_df[grouped_df['Year'] < num_of_years].index.nunique()"
   ]
  },
  {
   "cell_type": "code",
   "execution_count": 15,
   "id": "13a78643",
   "metadata": {},
   "outputs": [],
   "source": [
    "missing_years_countries_list = grouped_df[grouped_df['Year'] < num_of_years].index.tolist()"
   ]
  },
  {
   "cell_type": "code",
   "execution_count": 16,
   "id": "aad9a91a",
   "metadata": {},
   "outputs": [
    {
     "data": {
      "text/plain": [
       "37"
      ]
     },
     "execution_count": 16,
     "metadata": {},
     "output_type": "execute_result"
    }
   ],
   "source": [
    "missing_years_countries"
   ]
  },
  {
   "cell_type": "code",
   "execution_count": 17,
   "id": "4344de96",
   "metadata": {},
   "outputs": [
    {
     "data": {
      "text/plain": [
       "['Afghanistan',\n",
       " 'Bosnia and Herzegovina',\n",
       " 'Cambodia',\n",
       " 'Canada',\n",
       " 'Cayman Islands',\n",
       " 'Croatia',\n",
       " 'CuraÃ§ao',\n",
       " 'Djibouti',\n",
       " 'Estonia',\n",
       " 'Hungary',\n",
       " 'Iceland',\n",
       " 'Israel',\n",
       " 'Kosovo',\n",
       " 'Kuwait',\n",
       " 'Latvia',\n",
       " 'Liberia',\n",
       " 'Libya',\n",
       " 'Lithuania',\n",
       " 'Maldives',\n",
       " 'Moldova',\n",
       " 'Montenegro',\n",
       " 'Nauru',\n",
       " 'Other small states',\n",
       " 'Palau',\n",
       " 'Qatar',\n",
       " 'San Marino',\n",
       " 'Serbia',\n",
       " 'Sint Maarten (Dutch part)',\n",
       " 'Slovak Republic',\n",
       " 'Slovenia',\n",
       " 'Small states',\n",
       " 'Somalia',\n",
       " 'SÃ£o TomÃ© and Principe',\n",
       " 'Timor-Leste',\n",
       " 'Turkmenistan',\n",
       " 'Turks and Caicos Islands',\n",
       " 'West Bank and Gaza']"
      ]
     },
     "execution_count": 17,
     "metadata": {},
     "output_type": "execute_result"
    }
   ],
   "source": [
    "missing_years_countries_list"
   ]
  },
  {
   "cell_type": "code",
   "execution_count": 18,
   "id": "f2645640",
   "metadata": {},
   "outputs": [
    {
     "name": "stdout",
     "output_type": "stream",
     "text": [
      "Countries w/ all years: 205\n",
      "Countries missing year: 37\n"
     ]
    }
   ],
   "source": [
    "print(f\"Countries w/ all years: {num_of_countries}\")\n",
    "print(f\"Countries missing year: {missing_years_countries}\")"
   ]
  },
  {
   "cell_type": "markdown",
   "id": "d5917baa",
   "metadata": {},
   "source": [
    "<h2 style=\"text-align: center;\">Question 8</h2>\n",
    "<h5 style=\"text-align: center; color: gray;\">In this question, you're going to create some plots to show the distribution of GDP per capita for the year 2020. Go to the Python Graph Gallery <a href=\"https://www.python-graph-gallery.com/\">LINK TO PYTHON GRAPH GALLERY</a> and look at the different types of plots under the Distribution section. Create a histogram, a density plot, a boxplot, and a violin plot. What do you notice when you look at these plots? How do the plots compare and what information can you get out of one type that you can't necessarily get out of the others?</h5>"
   ]
  },
  {
   "cell_type": "code",
   "execution_count": 19,
   "id": "9fce58e5",
   "metadata": {},
   "outputs": [],
   "source": [
    "#sns.distplot( a=gdp_df[\"\"].loc[gdp_df['Year'] == 2020], hist=True, kde=False, rug=False )"
   ]
  },
  {
   "cell_type": "code",
   "execution_count": 20,
   "id": "a0b31895",
   "metadata": {},
   "outputs": [
    {
     "data": {
      "image/png": "[encoded data removed]",
      "text/plain": [
       "<Figure size 432x288 with 1 Axes>"
      ]
     },
     "metadata": {
      "needs_background": "dark"
     },
     "output_type": "display_data"
    }
   ],
   "source": [
    "sns.kdeplot(gdp_df['GDP_Per_Capita'])\n",
    "\n",
    "plt.xlabel('GDP per capita', color='white')\n",
    "plt.ylabel('Density', color='white')\n",
    "plt.tick_params(colors='white')\n",
    "plt.ticklabel_format(style='plain', axis='y')"
   ]
  },
  {
   "cell_type": "code",
   "execution_count": 21,
   "id": "db9e0190",
   "metadata": {},
   "outputs": [
    {
     "data": {
      "image/png": "[encoded data removed]",
      "text/plain": [
       "<Figure size 432x288 with 1 Axes>"
      ]
     },
     "metadata": {
      "needs_background": "dark"
     },
     "output_type": "display_data"
    }
   ],
   "source": [
    "sns.boxplot( x=gdp_df[\"GDP_Per_Capita\"])\n",
    "plt.xlabel('GDP per capita', color='white')\n",
    "plt.ylabel('Density', color='white')\n",
    "plt.tick_params(colors='white')\n",
    "#plt.ticklabel_format(style='plain', axis='y')"
   ]
  },
  {
   "cell_type": "code",
   "execution_count": 22,
   "id": "7df77ad7",
   "metadata": {},
   "outputs": [
    {
     "data": {
      "image/png": "[encoded data removed]",
      "text/plain": [
       "<Figure size 432x288 with 1 Axes>"
      ]
     },
     "metadata": {
      "needs_background": "dark"
     },
     "output_type": "display_data"
    }
   ],
   "source": [
    "sns.violinplot(x=gdp_df[\"GDP_Per_Capita\"])\n",
    "plt.xlabel('GDP per capita', color='white')\n",
    "plt.ylabel('Density', color='white')\n",
    "plt.tick_params(colors='white')"
   ]
  },
  {
   "cell_type": "markdown",
   "id": "88295059",
   "metadata": {},
   "source": [
    "<h2 style=\"text-align: center;\">Question 9</h2>\n",
    "<h5 style=\"text-align: center; color: gray;\">What was the median GDP per capita value in 2020?</h5>"
   ]
  },
  {
   "cell_type": "code",
   "execution_count": 23,
   "id": "b74fea78",
   "metadata": {},
   "outputs": [
    {
     "data": {
      "text/plain": [
       "12908.9374056206"
      ]
     },
     "execution_count": 23,
     "metadata": {},
     "output_type": "execute_result"
    }
   ],
   "source": [
    "median_gdp_2020 = gdp_df.loc[gdp_df['Year'] == 2020, 'GDP_Per_Capita'].median()\n",
    "median_gdp_2020"
   ]
  },
  {
   "cell_type": "markdown",
   "id": "e4aff6c5",
   "metadata": {},
   "source": [
    "<h2 style=\"text-align: center;\">Question 11</h2>\n",
    "<h5 style=\"text-align: center; color: gray;\">Which country was the first to have a GDP per capita greater than $100,000?</h5>"
   ]
  },
  {
   "cell_type": "code",
   "execution_count": 24,
   "id": "e07ec17a",
   "metadata": {},
   "outputs": [
    {
     "data": {
      "text/plain": [
       "'United Arab Emirates'"
      ]
     },
     "execution_count": 24,
     "metadata": {},
     "output_type": "execute_result"
    }
   ],
   "source": [
    "first_country1 = gdp_df.loc[gdp_df['GDP_Per_Capita'] > 100000, ['Country', 'Year']].sort_values('Year').iloc[0]['Country']\n",
    "first_country1\n"
   ]
  },
  {
   "cell_type": "code",
   "execution_count": 25,
   "id": "b33368ee",
   "metadata": {},
   "outputs": [
    {
     "data": {
      "text/plain": [
       "'United Arab Emirates'"
      ]
     },
     "execution_count": 25,
     "metadata": {},
     "output_type": "execute_result"
    }
   ],
   "source": [
    "first_country2 = gdp_df.query('GDP_Per_Capita > 100000').nsmallest(1, 'Year')['Country'].iloc[0]\n",
    "first_country2"
   ]
  },
  {
   "cell_type": "markdown",
   "id": "96cc5d9f",
   "metadata": {},
   "source": [
    "<h2 style=\"text-align: center;\">Question 12</h2>\n",
    "<h5 style=\"text-align: center; color: gray;\">Which country had the highest GDP per capita in 2020? Create a plot showing how this country's GDP per capita has changed over the timespan of the dataset.</h5>"
   ]
  },
  {
   "cell_type": "code",
   "execution_count": 26,
   "id": "269a8dcf",
   "metadata": {},
   "outputs": [
    {
     "data": {
      "text/plain": [
       "'Luxembourg'"
      ]
     },
     "execution_count": 26,
     "metadata": {},
     "output_type": "execute_result"
    }
   ],
   "source": [
    "gdp_df_2020 = gdp_df[gdp_df['Year'] == 2020]\n",
    "gdp_df_2020_nlargest = gdp_df_2020.nlargest(1, 'GDP_Per_Capita')['Country'].iloc[0]\n",
    "gdp_df_2020_nlargest"
   ]
  },
  {
   "cell_type": "code",
   "execution_count": 27,
   "id": "e5c21939",
   "metadata": {},
   "outputs": [
    {
     "data": {
      "text/plain": [
       "(0.0, 123137.17315071361)"
      ]
     },
     "execution_count": 27,
     "metadata": {},
     "output_type": "execute_result"
    },
    {
     "data": {
      "image/png": "[encoded data removed]",
      "text/plain": [
       "<Figure size 432x288 with 1 Axes>"
      ]
     },
     "metadata": {
      "needs_background": "light"
     },
     "output_type": "display_data"
    }
   ],
   "source": [
    "gdp_df_2020_nlargest2 = (\n",
    "    gdp_df[gdp_df['Year'] == 2020]\n",
    "    .nlargest(1, 'GDP_Per_Capita')['Country']\n",
    "    .iloc[0]\n",
    ")\n",
    "\n",
    "selected_country_df = gdp_df.loc[gdp_df['Country'] == gdp_df_2020_nlargest2]\n",
    "\n",
    "# Plot the change in GDP per capita over time for the selected country\n",
    "plt.plot(selected_country_df['Year'], selected_country_df['GDP_Per_Capita'])\n",
    "plt.title(f\"GDP per capita for {gdp_df_2020_nlargest2}\")\n",
    "plt.xlabel(\"Year\")\n",
    "plt.ylabel(\"GDP per capita ($)\")\n",
    "plt.ylim(ymin=0)"
   ]
  },
  {
   "cell_type": "markdown",
   "id": "b8484052",
   "metadata": {},
   "source": [
    "<h2 style=\"text-align: center;\">Question 13</h2>\n",
    "<h5 style=\"text-align: center; color: gray;\">Which country had the lowest GDP per capita in 2020? Create a plot showing how this country's GDP per capita has changed over the timespan of the dataset. **Bonus question:** Is it true in general that coutries had a higher GDP per capita in 2020 than in 1990? Which countries had lower GDP per capita in 2020 than in 1990?</h5>"
   ]
  },
  {
   "cell_type": "code",
   "execution_count": 28,
   "id": "6317e8aa",
   "metadata": {},
   "outputs": [
    {
     "data": {
      "text/plain": [
       "(0.0, 1240.1283717641516)"
      ]
     },
     "execution_count": 28,
     "metadata": {},
     "output_type": "execute_result"
    },
    {
     "data": {
      "image/png": "[encoded data removed]",
      "text/plain": [
       "<Figure size 432x288 with 1 Axes>"
      ]
     },
     "metadata": {
      "needs_background": "light"
     },
     "output_type": "display_data"
    }
   ],
   "source": [
    "gdp_df_2020_nsmallest = (\n",
    "    gdp_df[gdp_df['Year'] == 2020]\n",
    "    .nsmallest(1, 'GDP_Per_Capita')['Country']\n",
    "    .iloc[0]\n",
    ")\n",
    "\n",
    "selected_country_df = gdp_df.loc[gdp_df['Country'] == gdp_df_2020_nsmallest]\n",
    "\n",
    "# Plot the change in GDP per capita over time for the selected country\n",
    "plt.plot(selected_country_df['Year'], selected_country_df['GDP_Per_Capita'])\n",
    "plt.title(f\"GDP per capita for {gdp_df_2020_nsmallest}\")\n",
    "plt.xlabel(\"Year\")\n",
    "plt.ylabel(\"GDP per capita ($)\")\n",
    "plt.ylim(ymin=0)"
   ]
  },
  {
   "cell_type": "code",
   "execution_count": 29,
   "id": "d4443dc5",
   "metadata": {},
   "outputs": [
    {
     "name": "stdout",
     "output_type": "stream",
     "text": [
      "12908.9374056206\n",
      "6028.14473170836\n"
     ]
    }
   ],
   "source": [
    "median_gdp_2020 = gdp_df.loc[gdp_df['Year'] == 2020, 'GDP_Per_Capita'].median()\n",
    "median_gdp_1990 = gdp_df.loc[gdp_df['Year'] == 1990, 'GDP_Per_Capita'].median()\n",
    "print(median_gdp_2020)\n",
    "print(median_gdp_1990)\n"
   ]
  },
  {
   "cell_type": "markdown",
   "id": "ca4c0e74",
   "metadata": {},
   "source": [
    "<h2 style=\"text-align: center;\">Question 14</h2>\n",
    "<h5 style=\"text-align: center; color: gray;\">Read in the internet use dataset into a DataFrame named `internet_df`. You will likely get errors when doing this. Check the arguments for the read_csv function to find ones that can help correct the errors <a href=\"https://pandas.pydata.org/docs/reference/api/pandas.read_csv.html\">LINK TO PANDAS DOC</a> Once you are able to read it in, take per a look at the top and bottom few rows to make sure that it has been read in correctly. Also, check the datatypes of the columns.</h5>"
   ]
  },
  {
   "cell_type": "code",
   "execution_count": 30,
   "id": "c9b5d679",
   "metadata": {},
   "outputs": [
    {
     "name": "stdout",
     "output_type": "stream",
     "text": [
      "Error in row 4496: expected 3 columns, got 0.\n"
     ]
    }
   ],
   "source": [
    "import csv\n",
    "\n",
    "filename = 'C:/NSS/da8-projects/un-proj/data/internet_use.csv'\n",
    "\n",
    "# open the file and create a csv reader\n",
    "with open(filename, 'r') as f:\n",
    "    reader = csv.reader(f)\n",
    "    \n",
    "    # use a loop to check each row for errors\n",
    "    for i, row in enumerate(reader):\n",
    "        try:\n",
    "            # process the row (e.g., convert strings to numbers)\n",
    "            # ...\n",
    "            # if there's an error, raise an exception\n",
    "            if len(row) != 4:\n",
    "                nrows = i-1\n",
    "                raise ValueError(f'Error in row {i}: expected 3 columns, got {len(row)}.')\n",
    "        except Exception as e:\n",
    "            print(e)\n",
    "            break\n"
   ]
  },
  {
   "cell_type": "code",
   "execution_count": 31,
   "id": "135f4877",
   "metadata": {},
   "outputs": [],
   "source": [
    "internet_df = pd.read_csv('C:/NSS/da8-projects/un-proj/data/internet_use.csv', nrows=nrows)"
   ]
  },
  {
   "cell_type": "markdown",
   "id": "9e0e3827",
   "metadata": {},
   "source": [
    "<h2 style=\"text-align: center;\">Question 15</h2>\n",
    "<h5 style=\"text-align: center; color: gray;\">Drop the `Value Footnotes` column and rename the remaining three to 'Country', 'Year', and 'Internet_Users_Pct'.</h5>"
   ]
  },
  {
   "cell_type": "code",
   "execution_count": 32,
   "id": "9bd9529e",
   "metadata": {},
   "outputs": [],
   "source": [
    "internet_df.drop('Value Footnotes', axis=1, inplace=True)"
   ]
  },
  {
   "cell_type": "code",
   "execution_count": 33,
   "id": "35892cfc",
   "metadata": {},
   "outputs": [],
   "source": [
    "internet_df.rename(columns={'Country or Area': 'Country', 'Value': 'Internet_Users_Pct'}, inplace=True)"
   ]
  },
  {
   "cell_type": "markdown",
   "id": "cdb327e8",
   "metadata": {},
   "source": [
    "<h2 style=\"text-align: center;\">Question 16</h2>\n",
    "<h5 style=\"text-align: center; color: gray;\">Look at the number of observations in this dataset per year. What do you notice?</h5>"
   ]
  },
  {
   "cell_type": "code",
   "execution_count": 34,
   "id": "64b150c2",
   "metadata": {},
   "outputs": [
    {
     "name": "stdout",
     "output_type": "stream",
     "text": [
      "<class 'pandas.core.frame.DataFrame'>\n",
      "RangeIndex: 4495 entries, 0 to 4494\n",
      "Data columns (total 3 columns):\n",
      " #   Column              Non-Null Count  Dtype  \n",
      "---  ------              --------------  -----  \n",
      " 0   Country             4495 non-null   object \n",
      " 1   Year                4495 non-null   int64  \n",
      " 2   Internet_Users_Pct  4495 non-null   float64\n",
      "dtypes: float64(1), int64(1), object(1)\n",
      "memory usage: 105.5+ KB\n"
     ]
    }
   ],
   "source": [
    "internet_df.info()"
   ]
  },
  {
   "cell_type": "markdown",
   "id": "29ef9f12",
   "metadata": {},
   "source": [
    "<h2 style=\"text-align: center;\">Question 17</h2>\n",
    "<h5 style=\"text-align: center; color: gray;\">What is the first year to have a non-zero internet users percentage value??</h5>"
   ]
  },
  {
   "cell_type": "code",
   "execution_count": 35,
   "id": "04a87cb8",
   "metadata": {},
   "outputs": [
    {
     "data": {
      "text/plain": [
       "1990"
      ]
     },
     "execution_count": 35,
     "metadata": {},
     "output_type": "execute_result"
    }
   ],
   "source": [
    "non_zero_df = internet_df[internet_df['Internet_Users_Pct'] > 0]\n",
    "first_year = non_zero_df['Year'].min()\n",
    "first_year"
   ]
  },
  {
   "cell_type": "markdown",
   "id": "58f2f659",
   "metadata": {},
   "source": [
    "<h2 style=\"text-align: center;\">Question 18</h2>\n",
    "<h5 style=\"text-align: center; color: gray;\">How does the distribution of internet users percent differ for 2000 and 2014?</h5>"
   ]
  },
  {
   "cell_type": "code",
   "execution_count": 36,
   "id": "21db8192",
   "metadata": {},
   "outputs": [
    {
     "data": {
      "text/plain": [
       "<matplotlib.legend.Legend at 0x150a4231880>"
      ]
     },
     "execution_count": 36,
     "metadata": {},
     "output_type": "execute_result"
    },
    {
     "data": {
      "image/png": "[encoded data removed]",
      "text/plain": [
       "<Figure size 720x432 with 1 Axes>"
      ]
     },
     "metadata": {
      "needs_background": "light"
     },
     "output_type": "display_data"
    }
   ],
   "source": [
    "data_2000 = internet_df[internet_df['Year'] == 2000]\n",
    "data_2014 = internet_df[internet_df['Year'] == 2014]\n",
    "\n",
    "plt.figure(figsize=(10, 6))\n",
    "\n",
    "plt.hist(data_2000['Internet_Users_Pct'], alpha=0.5, bins=20, label='2000', color='purple', edgecolor='black')\n",
    "plt.hist(data_2014['Internet_Users_Pct'], alpha=0.5, bins=20, label='2014', color='blue', edgecolor='black')\n",
    "\n",
    "plt.xlabel(\"Internet Users Percentage\")\n",
    "plt.ylabel(\"Frequency\")\n",
    "plt.title(\"Distribution of Internet Users Percentage for 2000 and 2014\")\n",
    "\n",
    "plt.legend()"
   ]
  },
  {
   "cell_type": "markdown",
   "id": "073be45a",
   "metadata": {},
   "source": [
    "<h2 style=\"text-align: center;\">Question 19</h2>\n",
    "<h5 style=\"text-align: center; color: gray\">For how many countries was the percentage of internet users below 5% in 2014?</h5>"
   ]
  },
  {
   "cell_type": "code",
   "execution_count": 37,
   "id": "8a861f0e",
   "metadata": {},
   "outputs": [
    {
     "data": {
      "text/plain": [
       "210"
      ]
     },
     "execution_count": 37,
     "metadata": {},
     "output_type": "execute_result"
    }
   ],
   "source": [
    "below_5_perc = internet_df.query(\"Internet_Users_Pct < 5\")['Country'].nunique()\n",
    "below_5_perc"
   ]
  },
  {
   "cell_type": "markdown",
   "id": "34f9f7d7",
   "metadata": {},
   "source": [
    "<h2 style=\"text-align: center;\">Question 20</h2>\n",
    "<h5 style=\"text-align: center; color: gray\">Merge the two DataFrames to one. Do this in a way that keeps **all rows** from each of the two DataFrames. Call the new DataFrame `gdp_and_internet_use`. Look at the first and last few rows to confirm that it merged correctly.</h5>"
   ]
  },
  {
   "cell_type": "code",
   "execution_count": 38,
   "id": "9f5099ae",
   "metadata": {},
   "outputs": [
    {
     "data": {
      "text/plain": [
       "<bound method DataFrame.info of           Country  Year  GDP_Per_Capita  Internet_Users_Pct\n",
       "0     Afghanistan  2020     1970.560169                 NaN\n",
       "1     Afghanistan  2019     2065.036235                 NaN\n",
       "2     Afghanistan  2018     2033.804389                 NaN\n",
       "3     Afghanistan  2017     2058.400221                 NaN\n",
       "4     Afghanistan  2016     2057.067978                 NaN\n",
       "...           ...   ...             ...                 ...\n",
       "8251        Yemen  1999             NaN            0.056629\n",
       "8252        Yemen  1998             NaN            0.023323\n",
       "8253        Yemen  1997             NaN            0.015025\n",
       "8254        Yemen  1996             NaN            0.000621\n",
       "8255        Yemen  1990             NaN            0.000000\n",
       "\n",
       "[8256 rows x 4 columns]>"
      ]
     },
     "execution_count": 38,
     "metadata": {},
     "output_type": "execute_result"
    }
   ],
   "source": [
    "df = gdp_df.merge(internet_df, on=['Country', 'Year'], how='outer')\n",
    "df.info"
   ]
  },
  {
   "cell_type": "markdown",
   "id": "e31f8fbe",
   "metadata": {},
   "source": [
    "<h2 style=\"text-align: center;\">Question 21</h2>\n",
    "<h5 style=\"text-align: center; color: gray\">Find the three countries with the highest internet users percentage in 2014. Use a seaborn FacetGrid <a href='https://seaborn.pydata.org/generated/seaborn.FacetGrid.html'>(LINK TO SEABORN)</a> to compare how the GDP per capita has changed over time for these three countries. What do you notice?</h5>"
   ]
  },
  {
   "cell_type": "code",
   "execution_count": 39,
   "id": "069e1150",
   "metadata": {},
   "outputs": [
    {
     "data": {
      "text/plain": [
       "['Iceland', 'Bermuda', 'Norway']"
      ]
     },
     "execution_count": 39,
     "metadata": {},
     "output_type": "execute_result"
    }
   ],
   "source": [
    "df_2014_nlargest3 = (\n",
    "    df[df['Year'] == 2014]\n",
    "    .nlargest(3, 'Internet_Users_Pct')['Country']\n",
    "    .to_list()\n",
    ")\n",
    "df_2014_nlargest3"
   ]
  },
  {
   "cell_type": "code",
   "execution_count": 40,
   "id": "9953c1ab",
   "metadata": {},
   "outputs": [
    {
     "data": {
      "text/plain": [
       "<seaborn.axisgrid.FacetGrid at 0x150a4299880>"
      ]
     },
     "execution_count": 40,
     "metadata": {},
     "output_type": "execute_result"
    },
    {
     "data": {
      "image/png": "[encoded data removed]",
      "text/plain": [
       "<Figure size 1296x360 with 3 Axes>"
      ]
     },
     "metadata": {
      "needs_background": "light"
     },
     "output_type": "display_data"
    }
   ],
   "source": [
    "top_3 = df[df['Country'].isin(df_2014_nlargest3)]\n",
    "\n",
    "g = sns.FacetGrid(top_3, col=\"Country\", hue=\"Country\", height=5, aspect=1.2)\n",
    "g.map(sns.lineplot, \"Year\", \"GDP_Per_Capita\")\n",
    "\n",
    "g.set_axis_labels(\"Year\", \"GDP per Capita\")\n",
    "g.set_titles(col_template=\"{col_name}\")\n",
    "g.set(ylim=(0, None))"
   ]
  },
  {
   "cell_type": "markdown",
   "id": "36e01f1b",
   "metadata": {},
   "source": [
    "<h2 style=\"text-align: center;\">Question 22</h2>"
   ]
  },
  {
   "cell_type": "code",
   "execution_count": 41,
   "id": "b6612f4a",
   "metadata": {},
   "outputs": [],
   "source": [
    "gdp_and_internet_use_2014 = df[df['Year'] == 2014]"
   ]
  },
  {
   "cell_type": "code",
   "execution_count": 42,
   "id": "208660e5",
   "metadata": {},
   "outputs": [
    {
     "data": {
      "text/html": [
       "<div>\n",
       "<style scoped>\n",
       "    .dataframe tbody tr th:only-of-type {\n",
       "        vertical-align: middle;\n",
       "    }\n",
       "\n",
       "    .dataframe tbody tr th {\n",
       "        vertical-align: top;\n",
       "    }\n",
       "\n",
       "    .dataframe thead th {\n",
       "        text-align: right;\n",
       "    }\n",
       "</style>\n",
       "<table border=\"1\" class=\"dataframe\">\n",
       "  <thead>\n",
       "    <tr style=\"text-align: right;\">\n",
       "      <th></th>\n",
       "      <th>Country</th>\n",
       "      <th>Year</th>\n",
       "      <th>GDP_Per_Capita</th>\n",
       "      <th>Internet_Users_Pct</th>\n",
       "    </tr>\n",
       "  </thead>\n",
       "  <tbody>\n",
       "    <tr>\n",
       "      <th>6</th>\n",
       "      <td>Afghanistan</td>\n",
       "      <td>2014</td>\n",
       "      <td>2102.384604</td>\n",
       "      <td>6.39</td>\n",
       "    </tr>\n",
       "    <tr>\n",
       "      <th>25</th>\n",
       "      <td>Africa Eastern and Southern</td>\n",
       "      <td>2014</td>\n",
       "      <td>3677.319414</td>\n",
       "      <td>NaN</td>\n",
       "    </tr>\n",
       "    <tr>\n",
       "      <th>56</th>\n",
       "      <td>Africa Western and Central</td>\n",
       "      <td>2014</td>\n",
       "      <td>4215.646000</td>\n",
       "      <td>NaN</td>\n",
       "    </tr>\n",
       "    <tr>\n",
       "      <th>87</th>\n",
       "      <td>Albania</td>\n",
       "      <td>2014</td>\n",
       "      <td>11586.833878</td>\n",
       "      <td>60.10</td>\n",
       "    </tr>\n",
       "    <tr>\n",
       "      <th>118</th>\n",
       "      <td>Algeria</td>\n",
       "      <td>2014</td>\n",
       "      <td>11512.690472</td>\n",
       "      <td>18.09</td>\n",
       "    </tr>\n",
       "  </tbody>\n",
       "</table>\n",
       "</div>"
      ],
      "text/plain": [
       "                         Country  Year  GDP_Per_Capita  Internet_Users_Pct\n",
       "6                    Afghanistan  2014     2102.384604                6.39\n",
       "25   Africa Eastern and Southern  2014     3677.319414                 NaN\n",
       "56    Africa Western and Central  2014     4215.646000                 NaN\n",
       "87                       Albania  2014    11586.833878               60.10\n",
       "118                      Algeria  2014    11512.690472               18.09"
      ]
     },
     "execution_count": 42,
     "metadata": {},
     "output_type": "execute_result"
    }
   ],
   "source": [
    "gdp_and_internet_use_2014.head()"
   ]
  },
  {
   "cell_type": "markdown",
   "id": "d2135a03",
   "metadata": {},
   "source": [
    "<h2 style=\"text-align: center;\">Question 23</h2>"
   ]
  },
  {
   "cell_type": "code",
   "execution_count": 43,
   "id": "f5392bad",
   "metadata": {},
   "outputs": [
    {
     "data": {
      "text/html": [
       "<div>\n",
       "<style scoped>\n",
       "    .dataframe tbody tr th:only-of-type {\n",
       "        vertical-align: middle;\n",
       "    }\n",
       "\n",
       "    .dataframe tbody tr th {\n",
       "        vertical-align: top;\n",
       "    }\n",
       "\n",
       "    .dataframe thead th {\n",
       "        text-align: right;\n",
       "    }\n",
       "</style>\n",
       "<table border=\"1\" class=\"dataframe\">\n",
       "  <thead>\n",
       "    <tr style=\"text-align: right;\">\n",
       "      <th></th>\n",
       "      <th>Country</th>\n",
       "      <th>Year</th>\n",
       "      <th>GDP_Per_Capita</th>\n",
       "      <th>Internet_Users_Pct</th>\n",
       "    </tr>\n",
       "  </thead>\n",
       "  <tbody>\n",
       "    <tr>\n",
       "      <th>6</th>\n",
       "      <td>Afghanistan</td>\n",
       "      <td>2014</td>\n",
       "      <td>2102.384604</td>\n",
       "      <td>6.39</td>\n",
       "    </tr>\n",
       "    <tr>\n",
       "      <th>25</th>\n",
       "      <td>Africa Eastern and Southern</td>\n",
       "      <td>2014</td>\n",
       "      <td>3677.319414</td>\n",
       "      <td>NaN</td>\n",
       "    </tr>\n",
       "    <tr>\n",
       "      <th>56</th>\n",
       "      <td>Africa Western and Central</td>\n",
       "      <td>2014</td>\n",
       "      <td>4215.646000</td>\n",
       "      <td>NaN</td>\n",
       "    </tr>\n",
       "    <tr>\n",
       "      <th>87</th>\n",
       "      <td>Albania</td>\n",
       "      <td>2014</td>\n",
       "      <td>11586.833878</td>\n",
       "      <td>60.10</td>\n",
       "    </tr>\n",
       "    <tr>\n",
       "      <th>118</th>\n",
       "      <td>Algeria</td>\n",
       "      <td>2014</td>\n",
       "      <td>11512.690472</td>\n",
       "      <td>18.09</td>\n",
       "    </tr>\n",
       "  </tbody>\n",
       "</table>\n",
       "</div>"
      ],
      "text/plain": [
       "                         Country  Year  GDP_Per_Capita  Internet_Users_Pct\n",
       "6                    Afghanistan  2014     2102.384604                6.39\n",
       "25   Africa Eastern and Southern  2014     3677.319414                 NaN\n",
       "56    Africa Western and Central  2014     4215.646000                 NaN\n",
       "87                       Albania  2014    11586.833878               60.10\n",
       "118                      Algeria  2014    11512.690472               18.09"
      ]
     },
     "execution_count": 43,
     "metadata": {},
     "output_type": "execute_result"
    }
   ],
   "source": [
    "gdp_and_internet_use_2014.head()"
   ]
  },
  {
   "cell_type": "code",
   "execution_count": 44,
   "id": "7bef874a",
   "metadata": {},
   "outputs": [
    {
     "data": {
      "text/plain": [
       "Text(0.5, 1.0, 'Internet Users Percentage vs. GDP Per Capita (2014)')"
      ]
     },
     "execution_count": 44,
     "metadata": {},
     "output_type": "execute_result"
    },
    {
     "data": {
      "image/png": "[encoded data removed]",
      "text/plain": [
       "<Figure size 720x432 with 1 Axes>"
      ]
     },
     "metadata": {
      "needs_background": "light"
     },
     "output_type": "display_data"
    }
   ],
   "source": [
    "plt.figure(figsize=(10, 6))\n",
    "sns.scatterplot(data=gdp_and_internet_use_2014, x=\"GDP_Per_Capita\", y=\"Internet_Users_Pct\")\n",
    "\n",
    "plt.xlabel(\"GDP per Capita\")\n",
    "plt.ylabel(\"Internet Users Percentage\")\n",
    "plt.title(\"Internet Users Percentage vs. GDP Per Capita (2014)\")"
   ]
  },
  {
   "cell_type": "code",
   "execution_count": 45,
   "id": "91f92a91",
   "metadata": {},
   "outputs": [
    {
     "data": {
      "text/html": [
       "<div>\n",
       "<style scoped>\n",
       "    .dataframe tbody tr th:only-of-type {\n",
       "        vertical-align: middle;\n",
       "    }\n",
       "\n",
       "    .dataframe tbody tr th {\n",
       "        vertical-align: top;\n",
       "    }\n",
       "\n",
       "    .dataframe thead th {\n",
       "        text-align: right;\n",
       "    }\n",
       "</style>\n",
       "<table border=\"1\" class=\"dataframe\">\n",
       "  <thead>\n",
       "    <tr style=\"text-align: right;\">\n",
       "      <th></th>\n",
       "      <th>Country</th>\n",
       "      <th>Year</th>\n",
       "      <th>GDP_Per_Capita</th>\n",
       "      <th>Internet_Users_Pct</th>\n",
       "    </tr>\n",
       "  </thead>\n",
       "  <tbody>\n",
       "    <tr>\n",
       "      <th>1879</th>\n",
       "      <td>Equatorial Guinea</td>\n",
       "      <td>2014</td>\n",
       "      <td>32436.553501</td>\n",
       "      <td>18.86</td>\n",
       "    </tr>\n",
       "  </tbody>\n",
       "</table>\n",
       "</div>"
      ],
      "text/plain": [
       "                Country  Year  GDP_Per_Capita  Internet_Users_Pct\n",
       "1879  Equatorial Guinea  2014    32436.553501               18.86"
      ]
     },
     "execution_count": 45,
     "metadata": {},
     "output_type": "execute_result"
    }
   ],
   "source": [
    "oddities = gdp_and_internet_use_2014[(gdp_and_internet_use_2014['GDP_Per_Capita'] > 30000) & (gdp_and_internet_use_2014['Internet_Users_Pct'] < 25)]\n",
    "oddities\n"
   ]
  },
  {
   "cell_type": "markdown",
   "id": "cf1944cd",
   "metadata": {},
   "source": [
    "<h2 style=\"text-align: center;\">Question 24</h2>"
   ]
  },
  {
   "cell_type": "code",
   "execution_count": 46,
   "id": "e5a8a954",
   "metadata": {},
   "outputs": [
    {
     "name": "stderr",
     "output_type": "stream",
     "text": [
      "C:\\Users\\robsc\\AppData\\Local\\Temp/ipykernel_42392/3905848855.py:1: SettingWithCopyWarning: \n",
      "A value is trying to be set on a copy of a slice from a DataFrame.\n",
      "Try using .loc[row_indexer,col_indexer] = value instead\n",
      "\n",
      "See the caveats in the documentation: https://pandas.pydata.org/pandas-docs/stable/user_guide/indexing.html#returning-a-view-versus-a-copy\n",
      "  gdp_and_internet_use_2014['GDP_group'] = pd.qcut(gdp_and_internet_use_2014['GDP_Per_Capita'], q=3, labels=[\"Low\", \"Medium\", \"High\"])\n"
     ]
    },
    {
     "data": {
      "text/html": [
       "<div>\n",
       "<style scoped>\n",
       "    .dataframe tbody tr th:only-of-type {\n",
       "        vertical-align: middle;\n",
       "    }\n",
       "\n",
       "    .dataframe tbody tr th {\n",
       "        vertical-align: top;\n",
       "    }\n",
       "\n",
       "    .dataframe thead th {\n",
       "        text-align: right;\n",
       "    }\n",
       "</style>\n",
       "<table border=\"1\" class=\"dataframe\">\n",
       "  <thead>\n",
       "    <tr style=\"text-align: right;\">\n",
       "      <th></th>\n",
       "      <th>Country</th>\n",
       "      <th>Year</th>\n",
       "      <th>GDP_Per_Capita</th>\n",
       "      <th>Internet_Users_Pct</th>\n",
       "      <th>GDP_group</th>\n",
       "    </tr>\n",
       "  </thead>\n",
       "  <tbody>\n",
       "    <tr>\n",
       "      <th>6</th>\n",
       "      <td>Afghanistan</td>\n",
       "      <td>2014</td>\n",
       "      <td>2102.384604</td>\n",
       "      <td>6.39</td>\n",
       "      <td>Low</td>\n",
       "    </tr>\n",
       "    <tr>\n",
       "      <th>25</th>\n",
       "      <td>Africa Eastern and Southern</td>\n",
       "      <td>2014</td>\n",
       "      <td>3677.319414</td>\n",
       "      <td>NaN</td>\n",
       "      <td>Low</td>\n",
       "    </tr>\n",
       "    <tr>\n",
       "      <th>56</th>\n",
       "      <td>Africa Western and Central</td>\n",
       "      <td>2014</td>\n",
       "      <td>4215.646000</td>\n",
       "      <td>NaN</td>\n",
       "      <td>Low</td>\n",
       "    </tr>\n",
       "    <tr>\n",
       "      <th>87</th>\n",
       "      <td>Albania</td>\n",
       "      <td>2014</td>\n",
       "      <td>11586.833878</td>\n",
       "      <td>60.10</td>\n",
       "      <td>Medium</td>\n",
       "    </tr>\n",
       "    <tr>\n",
       "      <th>118</th>\n",
       "      <td>Algeria</td>\n",
       "      <td>2014</td>\n",
       "      <td>11512.690472</td>\n",
       "      <td>18.09</td>\n",
       "      <td>Medium</td>\n",
       "    </tr>\n",
       "    <tr>\n",
       "      <th>...</th>\n",
       "      <td>...</td>\n",
       "      <td>...</td>\n",
       "      <td>...</td>\n",
       "      <td>...</td>\n",
       "      <td>...</td>\n",
       "    </tr>\n",
       "    <tr>\n",
       "      <th>8147</th>\n",
       "      <td>Turkey</td>\n",
       "      <td>2014</td>\n",
       "      <td>NaN</td>\n",
       "      <td>51.04</td>\n",
       "      <td>NaN</td>\n",
       "    </tr>\n",
       "    <tr>\n",
       "      <th>8170</th>\n",
       "      <td>Venezuela</td>\n",
       "      <td>2014</td>\n",
       "      <td>NaN</td>\n",
       "      <td>57.00</td>\n",
       "      <td>NaN</td>\n",
       "    </tr>\n",
       "    <tr>\n",
       "      <th>8194</th>\n",
       "      <td>Viet Nam</td>\n",
       "      <td>2014</td>\n",
       "      <td>NaN</td>\n",
       "      <td>48.31</td>\n",
       "      <td>NaN</td>\n",
       "    </tr>\n",
       "    <tr>\n",
       "      <th>8214</th>\n",
       "      <td>Virgin Islands (U.S.)</td>\n",
       "      <td>2014</td>\n",
       "      <td>NaN</td>\n",
       "      <td>50.07</td>\n",
       "      <td>NaN</td>\n",
       "    </tr>\n",
       "    <tr>\n",
       "      <th>8236</th>\n",
       "      <td>Yemen</td>\n",
       "      <td>2014</td>\n",
       "      <td>NaN</td>\n",
       "      <td>22.55</td>\n",
       "      <td>NaN</td>\n",
       "    </tr>\n",
       "  </tbody>\n",
       "</table>\n",
       "<p>281 rows × 5 columns</p>\n",
       "</div>"
      ],
      "text/plain": [
       "                          Country  Year  GDP_Per_Capita  Internet_Users_Pct  \\\n",
       "6                     Afghanistan  2014     2102.384604                6.39   \n",
       "25    Africa Eastern and Southern  2014     3677.319414                 NaN   \n",
       "56     Africa Western and Central  2014     4215.646000                 NaN   \n",
       "87                        Albania  2014    11586.833878               60.10   \n",
       "118                       Algeria  2014    11512.690472               18.09   \n",
       "...                           ...   ...             ...                 ...   \n",
       "8147                       Turkey  2014             NaN               51.04   \n",
       "8170                    Venezuela  2014             NaN               57.00   \n",
       "8194                     Viet Nam  2014             NaN               48.31   \n",
       "8214        Virgin Islands (U.S.)  2014             NaN               50.07   \n",
       "8236                        Yemen  2014             NaN               22.55   \n",
       "\n",
       "     GDP_group  \n",
       "6          Low  \n",
       "25         Low  \n",
       "56         Low  \n",
       "87      Medium  \n",
       "118     Medium  \n",
       "...        ...  \n",
       "8147       NaN  \n",
       "8170       NaN  \n",
       "8194       NaN  \n",
       "8214       NaN  \n",
       "8236       NaN  \n",
       "\n",
       "[281 rows x 5 columns]"
      ]
     },
     "execution_count": 46,
     "metadata": {},
     "output_type": "execute_result"
    }
   ],
   "source": [
    "gdp_and_internet_use_2014['GDP_group'] = pd.qcut(gdp_and_internet_use_2014['GDP_Per_Capita'], q=3, labels=[\"Low\", \"Medium\", \"High\"])\n",
    "gdp_and_internet_use_2014"
   ]
  },
  {
   "cell_type": "markdown",
   "id": "350ba59d",
   "metadata": {},
   "source": [
    "<h2 style=\"text-align: center;\">Question 25</h2>"
   ]
  },
  {
   "cell_type": "code",
   "execution_count": 47,
   "id": "245b33dc",
   "metadata": {},
   "outputs": [
    {
     "data": {
      "text/plain": [
       "GDP_group\n",
       "Low       10.60\n",
       "Medium    43.00\n",
       "High      78.74\n",
       "Name: Internet_Users_Pct, dtype: float64"
      ]
     },
     "execution_count": 47,
     "metadata": {},
     "output_type": "execute_result"
    }
   ],
   "source": [
    "median_internet_users_pct = gdp_and_internet_use_2014.groupby('GDP_group')['Internet_Users_Pct'].median()\n",
    "median_internet_users_pct"
   ]
  },
  {
   "cell_type": "markdown",
   "id": "260d9bd5",
   "metadata": {},
   "source": [
    "## Student Questions"
   ]
  },
  {
   "cell_type": "code",
   "execution_count": 48,
   "id": "63234124",
   "metadata": {},
   "outputs": [
    {
     "data": {
      "text/plain": [
       "array([[<AxesSubplot:title={'center':'GDP_Per_Capita'}>]], dtype=object)"
      ]
     },
     "execution_count": 48,
     "metadata": {},
     "output_type": "execute_result"
    },
    {
     "data": {
      "image/png": "[encoded data removed]",
      "text/plain": [
       "<Figure size 432x288 with 1 Axes>"
      ]
     },
     "metadata": {
      "needs_background": "light"
     },
     "output_type": "display_data"
    }
   ],
   "source": [
    "gdp_df.hist('GDP_Per_Capita')"
   ]
  },
  {
   "cell_type": "code",
   "execution_count": 49,
   "id": "45b1ef65",
   "metadata": {},
   "outputs": [
    {
     "data": {
      "text/plain": [
       "<AxesSubplot:xlabel='Year', ylabel='GDP_Per_Capita'>"
      ]
     },
     "execution_count": 49,
     "metadata": {},
     "output_type": "execute_result"
    },
    {
     "data": {
      "image/png": "[encoded data removed]",
      "text/plain": [
       "<Figure size 432x288 with 1 Axes>"
      ]
     },
     "metadata": {
      "needs_background": "light"
     },
     "output_type": "display_data"
    }
   ],
   "source": [
    "# min_row = gdp_2020.loc[gdp_2020['GDP_Per_Capita'].idxmin()]\n",
    "# country_with_min_gdp = min_row['Country']\n",
    "# print(country_with_min_gdp)    gdp_df = gdp_df[gdp_df[\"Country\"] == \"Burundi\"]\n",
    "# plt.plot(gdp_df[\"Year\"], gdp_df[\"GDP_Per_Capita\"])\n",
    "# plt.show()\n",
    "\n",
    "\n",
    "gdp_burundi = gdp_df[gdp_df['Country'] == 'Burundi']\n",
    "#print(gdp_burundi)\n",
    "sns.lineplot(x=gdp_burundi['Year'],\n",
    "             y=gdp_burundi['GDP_Per_Capita'])"
   ]
  },
  {
   "cell_type": "code",
   "execution_count": null,
   "id": "8b1e8642",
   "metadata": {},
   "outputs": [],
   "source": []
  }
 ],
 "metadata": {
  "kernelspec": {
   "display_name": "Python 3 (ipykernel)",
   "language": "python",
   "name": "python3"
  },
  "language_info": {
   "codemirror_mode": {
    "name": "ipython",
    "version": 3
   },
   "file_extension": ".py",
   "mimetype": "text/x-python",
   "name": "python",
   "nbconvert_exporter": "python",
   "pygments_lexer": "ipython3",
   "version": "3.9.7"
  },
  "vscode": {
   "interpreter": {
    "hash": "e2d7f406ec6c8581b3a5a2bd8e5502609c6c49bb1350eb3958374d69011f4f39"
   }
  }
 },
 "nbformat": 4,
 "nbformat_minor": 5
}
